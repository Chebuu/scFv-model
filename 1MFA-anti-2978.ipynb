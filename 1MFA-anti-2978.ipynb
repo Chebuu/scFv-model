{
 "metadata": {
  "language_info": {
   "codemirror_mode": {
    "name": "ipython",
    "version": 3
   },
   "file_extension": ".py",
   "mimetype": "text/x-python",
   "name": "python",
   "nbconvert_exporter": "python",
   "pygments_lexer": "ipython3",
   "version": "3.6.11-final"
  },
  "orig_nbformat": 2,
  "kernelspec": {
   "name": "Python 3.6.11 64-bit ('qcmm': conda)",
   "display_name": "Python 3.6.11 64-bit ('qcmm': conda)",
   "metadata": {
    "interpreter": {
     "hash": "e48c9bfdccfbfe7b296ff3c837069cd72899fd94f29d974904d2d6b5927ea76d"
    }
   }
  }
 },
 "nbformat": 4,
 "nbformat_minor": 2,
 "cells": [
  {
   "cell_type": "code",
   "execution_count": 1,
   "metadata": {},
   "outputs": [],
   "source": [
    "%%capture\n",
    "\n",
    "import math\n",
    "import numpy as np\n",
    "import pandas as pd\n",
    "import sklearn as sk\n",
    "import itertools as it\n",
    "\n",
    "import matplotlib.pyplot as plt\n",
    "\n",
    "import parmed as pmd\n",
    "import mdtraj as md\n",
    "\n",
    "from rdkit import Chem\n",
    "from rdkit.Chem import AllChem, rdFMCS, PandasTools\n",
    "from rdkit.Chem.EnumerateStereoisomers import EnumerateStereoisomers, StereoEnumerationOptions\n",
    "\n",
    "from Bio.PDB import PDBList\n",
    "\n",
    "from pdbfixer import *\n",
    "\n",
    "from simtk.openmm.app import *\n",
    "from simtk.openmm import *\n",
    "from simtk.unit import *\n",
    "\n",
    "from openforcefield.topology import Molecule, Topology\n",
    "from openmmforcefields.generators import GAFFTemplateGenerator\n",
    "from openforcefield.typing.engines.smirnoff import ForceField\n",
    "\n",
    "def expmut(wt=[], mt=[]):\n",
    "    return np.array([(x, y) for x in np.repeat(mt, len(wt)) for y in wt])\n",
    "# def expandgrid(*itrs):\n",
    "#    prod = \n",
    "#    return {'{}'.format(i+1):[x[i] for x in list(itertools.product(*itrs))] for i in range(len(itrs))}"
   ]
  },
  {
   "cell_type": "code",
   "execution_count": 2,
   "metadata": {},
   "outputs": [],
   "source": [
    "AA19_CATS = {\n",
    "    'Aliphatic': [\n",
    "        'glycine','isoleucine','leucine','proline'], \n",
    "    'Aromatic': [\n",
    "        'tryptophan','tyrosine','phenylalanine','histidine'],\n",
    "    'Basic': [\n",
    "        'histidine','lysine','arginine'],\n",
    "    'Acidic': [\n",
    "        'glutamine','asparagine'],\n",
    "    'Hydroxylic': [\n",
    "        'threonine', 'serine'],\n",
    "    'Sulphur': [\n",
    "        'methionine', 'cysteine'],\n",
    "    'Amidic ': [\n",
    "        'glutamine', 'asparagine']\n",
    "}\n",
    "\n",
    "AA19_CODES = pd.DataFrame([\n",
    "    ('Phenylalanine','Phe','F'),\n",
    "    ('Leucine','Leu','L'),\n",
    "    ('Serine','Ser','S'),\n",
    "    ('Tyrosine','Tyr','Y'),\n",
    "    ('Cysteine','Cys','C'),\n",
    "    ('Leucine','Leu','L'),\n",
    "    ('Proline','Pro','P'),\n",
    "    ('Histidine','His','H'),\n",
    "    ('Glutamine','Gln','Q'),\n",
    "    ('Isoleucine','Ile','I'),\n",
    "    ('Methionine','Met','M'),\n",
    "    ('Threonine','Thr','T'),\n",
    "    ('Asparagine','Asn','N'),\n",
    "    ('Lysine','Lys','K'),\n",
    "    ('Serine','Ser','S'),\n",
    "    ('Arginine','Arg','R'),\n",
    "    ('Valine','Val','V'),\n",
    "    ('Aspartate','Asp','D'),\n",
    "    ('Glutamate','Glu','E'),\n",
    "    ('Glycine','Gly','G')\n",
    "], columns=['Full', 'Residue', 'Letter'])"
   ]
  },
  {
   "cell_type": "code",
   "execution_count": 3,
   "metadata": {},
   "outputs": [],
   "source": [
    "PLATFORM = 'CPU'\n",
    "CUDA_DEV_IDX = None\n",
    "\n",
    "SCFV_IDS = ['1mfa']\n",
    "\n",
    "PDB_DIR = 'structures/pdb/'\n",
    "PDB_SLUG = PDB_DIR + 'pdb'\n",
    "\n",
    "LIG_SDF = 'structures/sdf/Structure2D_CID_2978.sdf'\n",
    "LIGAND_OFFSET = (0.0, 0.0, 0.0)\n",
    "\n",
    "STEP_SIZE = 1000\n",
    "TOTAL_STEPS = 10000\n",
    "SIM_DURATION = TOTAL_STEPS*STEP_SIZE\n",
    "\n",
    "N_TOTAL_RENDERS = 10\n",
    "RENDER_INTERVAL = SIM_DURATION / N_TOTAL_RENDERS\n",
    "\n",
    "ENERGY_TOLERANCE = 2\n",
    "MAX_ENERGY_ITERS = 5000\n",
    "\n",
    "LANGE_TOLERANCE = 10**-5\n",
    "LANGE_TEMPERATURE = 302.0*kelvin\n",
    "LANGE_FRICTION = 1.0/picoseconds\n",
    "LANGE_STEPSIZE = 2.0*femtoseconds\n",
    "\n",
    "REPORT_SLUG = '1MFA-2978'\n",
    "PDB_FRAME_DIR = REPORT_SLUG + '.frames'\n",
    "PDB_REPORT_FILE = REPORT_SLUG + '.pdb'\n",
    "DCD_REPORT_FILE = REPORT_SLUG + '.dcd'\n",
    "STATE_REPORT_FILE = REPORT_SLUG + '.state.txt'\n",
    "\n",
    "RESTART_FILE = REPORT_SLUG + '.rst7'\n",
    "STATE_RESTART_FILE = REPORT_SLUG + '.xml'\n",
    "CHECKPOINT_RESTART_FILE = REPORT_SLUG + '.chk'\n",
    "\n",
    "if not PLATFORM:\n",
    "    PLATFORM = openmm.Platform.getPlatformByName(PLATFORM) \n",
    "else:\n",
    "    PLATFORM = 'CPU'\n",
    "\n",
    "if PLATFORM == 'CUDA':\n",
    "    platprop = {\n",
    "        'CudaPrecision': 'mixed', \n",
    "        'CudaDeviceIndex': (CUDA_DEV_IDX if CUDA_DEV_IDX else 0)} \n",
    "\n",
    "REPORTERS = [\n",
    "    PDBReporter(PDB_REPORT_FILE, N_TOTAL_RENDERS),\n",
    "    StateDataReporter(\n",
    "        file=STATE_REPORT_FILE, \n",
    "        reportInterval=RENDER_INTERVAL, \n",
    "        progress=True, temperature=True, \n",
    "        potentialEnergy=True, density=True,\n",
    "        totalSteps=TOTAL_STEPS, speed=True)]"
   ]
  },
  {
   "cell_type": "code",
   "execution_count": 4,
   "metadata": {
    "tags": []
   },
   "outputs": [
    {
     "output_type": "stream",
     "name": "stdout",
     "text": "Structure exists: &#39;structures/pdb/pdb1mfa.ent&#39; \n"
    }
   ],
   "source": [
    "pdbl = PDBList()\n",
    "pdbl.download_pdb_files(SCFV_IDS, pdir=PDB_DIR, file_format='pdb')\n",
    "\n",
    "id_1MFA = SCFV_IDS[0]\n",
    "\n",
    "ent_1MFA = os.path.abspath(PDB_SLUG + id_1MFA + '.ent')\n",
    "\n",
    "tj_1MFA = md.load_pdb(ent_1MFA)\n",
    "tj_1MFA.center_coordinates()\n",
    "\n",
    "tj_1MFA_apo = tj_1MFA.atom_slice(\n",
    "    tj_1MFA.top.select('protein'))\n",
    "tj_1MFA_apo.save_pdb(PDB_DIR + id_1MFA + '_apo.pdb')\n",
    "\n",
    "tj_1MFA_lig = tj_1MFA.atom_slice(\n",
    "    tj_1MFA.top.select('not protein and not water'))\n",
    "    \n",
    "# min_atom_pair_distance = ((tj_1MFA_lig.xyz[0] ** 2.).sum(1) ** 0.5).max() + ((tj_1MFA_apo.xyz[0] ** 2.).sum(1) ** 0.5).max() + 0.3\n",
    "# tj_1MFA_lig.xyz += np.array(LIGAND_OFFSET) * min_atom_pair_distance\n",
    "\n",
    "tj_1MFA_lig.save_pdb(PDB_DIR + id_1MFA + '_lig.pdb')"
   ]
  },
  {
   "cell_type": "code",
   "execution_count": 5,
   "metadata": {
    "tags": []
   },
   "outputs": [],
   "source": [
    "ligSDF = PandasTools.LoadSDF(LIG_SDF, smilesName='SMILES', molColName='Mol')\n",
    "\n",
    "molREFRC = AllChem.MolFromPDBFile(PDB_DIR + id_1MFA + '_lig.pdb')\n",
    "molPROBE = Chem.AddHs(ligSDF.Mol[0])\n",
    "AllChem.EmbedMolecule(molPROBE)\n",
    "AllChem.UFFOptimizeMolecule(molPROBE)\n",
    "Chem.MolToMolFile(molPROBE, 'structures/mdl/' + 'PROBE' + '_lig.mol2')\n",
    "\n",
    "mols = [molREFRC, molPROBE]\n",
    "mcs = rdFMCS.FindMCS(\n",
    "    mols, threshold=0.8, completeRingsOnly=True, ringMatchesRingOnly=True)\n",
    "patt = Chem.MolFromSmarts(mcs.smartsString)\n",
    "refMatch = molREFRC.GetSubstructMatch(patt)\n",
    "mv = molPROBE.GetSubstructMatch(patt)\n",
    "rms = AllChem.GetAlignmentTransform(\n",
    "    molPROBE, molREFRC, atomMap=list(zip(mv, refMatch)))\n",
    "Chem.rdMolTransforms.TransformConformer(\n",
    "    molPROBE.GetConformer(0), np.array(rms[1]))\n",
    "\n",
    "Chem.rdmolfiles.MolToMolFile(\n",
    "    molPROBE, 'structures/mdl/' + 'PROBE' + '_lig.mol2')\n",
    "Chem.rdmolfiles.MolToPDBFile(\n",
    "    molPROBE, 'structures/pdb/' + 'PROBE' + '_lig.pdb')\n",
    "\n",
    "m = Chem.AddHs(molPROBE)\n",
    "AllChem.EmbedMolecule(m)\n",
    "AllChem.UFFOptimizeMolecule(m)\n",
    "\n",
    "Chem.MolToMolFile(m, 'structures/mdl/' + 'PROBE' + '_lig.mol2')"
   ]
  },
  {
   "cell_type": "code",
   "execution_count": 6,
   "metadata": {},
   "outputs": [
    {
     "output_type": "execute_result",
     "data": {
      "text/plain": "&lt;rdkit.Chem.rdchem.Mol at 0x14801fbc0&gt;",
      "image/png": "[encoded data removed]"
     },
     "metadata": {},
     "execution_count": 6
    }
   ],
   "source": [
    "molREFRC"
   ]
  },
  {
   "cell_type": "code",
   "execution_count": 7,
   "metadata": {},
   "outputs": [
    {
     "output_type": "execute_result",
     "data": {
      "text/plain": "&lt;rdkit.Chem.rdchem.Mol at 0x148031440&gt;",
      "image/png": "[encoded data removed]"
     },
     "metadata": {},
     "execution_count": 7
    }
   ],
   "source": [
    "molPROBE"
   ]
  },
  {
   "cell_type": "code",
   "execution_count": 8,
   "metadata": {},
   "outputs": [],
   "source": [
    "fixer = PDBFixer(PDB_DIR + id_1MFA + '_apo.pdb')\n",
    "fixer.findMissingResidues()\n",
    "fixer.findNonstandardResidues()\n",
    "fixer.replaceNonstandardResidues()\n",
    "fixer.removeHeterogens(True)\n",
    "fixer.findMissingAtoms()\n",
    "fixer.addMissingAtoms()\n",
    "fixer.addMissingHydrogens(7.0)\n",
    "with open(PDB_DIR + id_1MFA + 'apo_fxd.pdb', 'w') as outfile:\n",
    "    PDBFile.writeFile(fixer.topology, fixer.positions, outfile)"
   ]
  },
  {
   "cell_type": "code",
   "execution_count": 9,
   "metadata": {},
   "outputs": [],
   "source": [
    "molSMI = Chem.MolToSmiles(molPROBE, isomericSmiles=True)\n",
    "molLIG = PDBFile('structures/pdb/PROBE_lig.pdb')\n",
    "molAPO = PDBFile(PDB_DIR + id_1MFA + 'apo_fxd.pdb')\n",
    "\n",
    "model = Modeller(molAPO.topology, molAPO.getPositions())\n",
    "model.add(molLIG.topology, molLIG.getPositions())"
   ]
  },
  {
   "cell_type": "code",
   "execution_count": 10,
   "metadata": {
    "tags": []
   },
   "outputs": [
    {
     "output_type": "stream",
     "name": "stderr",
     "text": "Warning (not error because allow_undefined_stereo=True): \nWarning (not error because allow_undefined_stereo=True): \nWarning (not error because allow_undefined_stereo=True): \nWarning (not error because allow_undefined_stereo=True): \n"
    }
   ],
   "source": [
    "# generator.gaff_version is gaff2\n",
    "GAFFForceField = GAFFTemplateGenerator.INSTALLED_FORCEFIELDS[-1]\n",
    "GAFFTemplate = GAFFTemplateGenerator(forcefield=GAFFForceField)\n",
    "GAFFTemplate.add_molecules(\n",
    "    Molecule.from_smiles(molSMI, allow_undefined_stereo=True))\n",
    "    \n",
    "forcefield = app.ForceField('amber14/protein.ff14SB.xml')\n",
    "forcefield.registerTemplateGenerator(GAFFTemplate.generator)\n",
    "# forcefield.registerTemplatePatch(residue, patch, ...)\n",
    "system = forcefield.createSystem(model.topology)"
   ]
  },
  {
   "cell_type": "code",
   "execution_count": 11,
   "metadata": {},
   "outputs": [
    {
     "output_type": "display_data",
     "data": {
      "text/plain": "NGLWidget()",
      "application/vnd.jupyter.widget-view+json": {
       "version_major": 2,
       "version_minor": 0,
       "model_id": "a9ce962f53384e12822fefa1c01f626b"
      }
     },
     "metadata": {}
    }
   ],
   "source": [
    "with open('1mfa-HOLO.00.pdb', 'w+') as outfile:\n",
    "    PDBFile.writeFile(\n",
    "        model.topology, \n",
    "        model.getPositions(), \n",
    "        outfile)\n",
    "pmd.load_file('1mfa-HOLO.00.pdb').visualize()"
   ]
  },
  {
   "cell_type": "code",
   "execution_count": 12,
   "metadata": {
    "tags": []
   },
   "outputs": [
    {
     "output_type": "stream",
     "name": "stdout",
     "text": "[[&#39;HID&#39; &#39;50&#39; &#39;HID&#39; &#39;53&#39;]\n [&#39;HID&#39; &#39;54&#39; &#39;HID&#39; &#39;55&#39;]\n [&#39;HID&#39; &#39;56&#39; &#39;HID&#39; &#39;57&#39;]\n [&#39;HID&#39; &#39;59&#39; &#39;HID&#39; &#39;93&#39;]\n [&#39;HID&#39; &#39;95&#39; &#39;HID&#39; &#39;99&#39;]\n [&#39;HID&#39; &#39;50&#39; &#39;HID&#39; &#39;53&#39;]\n [&#39;HID&#39; &#39;54&#39; &#39;HID&#39; &#39;55&#39;]\n [&#39;HID&#39; &#39;56&#39; &#39;HID&#39; &#39;57&#39;]\n [&#39;HID&#39; &#39;59&#39; &#39;HID&#39; &#39;93&#39;]\n [&#39;HID&#39; &#39;95&#39; &#39;HID&#39; &#39;99&#39;]\n [&#39;HID&#39; &#39;50&#39; &#39;HID&#39; &#39;53&#39;]\n [&#39;HID&#39; &#39;54&#39; &#39;HID&#39; &#39;55&#39;]\n [&#39;HID&#39; &#39;56&#39; &#39;HID&#39; &#39;57&#39;]\n [&#39;HID&#39; &#39;59&#39; &#39;HID&#39; &#39;93&#39;]\n [&#39;HID&#39; &#39;95&#39; &#39;HID&#39; &#39;99&#39;]\n [&#39;HID&#39; &#39;50&#39; &#39;HID&#39; &#39;53&#39;]\n [&#39;HID&#39; &#39;54&#39; &#39;HID&#39; &#39;55&#39;]\n [&#39;HID&#39; &#39;56&#39; &#39;HID&#39; &#39;57&#39;]\n [&#39;HID&#39; &#39;59&#39; &#39;HID&#39; &#39;93&#39;]\n [&#39;HID&#39; &#39;95&#39; &#39;HID&#39; &#39;99&#39;]\n [&#39;HID&#39; &#39;50&#39; &#39;HID&#39; &#39;53&#39;]\n [&#39;HID&#39; &#39;54&#39; &#39;HID&#39; &#39;55&#39;]\n [&#39;HID&#39; &#39;56&#39; &#39;HID&#39; &#39;57&#39;]\n [&#39;HID&#39; &#39;59&#39; &#39;HID&#39; &#39;93&#39;]\n [&#39;HID&#39; &#39;95&#39; &#39;HID&#39; &#39;99&#39;]\n [&#39;HID&#39; &#39;50&#39; &#39;HID&#39; &#39;53&#39;]\n [&#39;HID&#39; &#39;54&#39; &#39;HID&#39; &#39;55&#39;]\n [&#39;HID&#39; &#39;56&#39; &#39;HID&#39; &#39;57&#39;]\n [&#39;HID&#39; &#39;59&#39; &#39;HID&#39; &#39;93&#39;]\n [&#39;HID&#39; &#39;95&#39; &#39;HID&#39; &#39;99&#39;]\n [&#39;HID&#39; &#39;50&#39; &#39;HID&#39; &#39;53&#39;]\n [&#39;HID&#39; &#39;54&#39; &#39;HID&#39; &#39;55&#39;]\n [&#39;HID&#39; &#39;56&#39; &#39;HID&#39; &#39;57&#39;]\n [&#39;HID&#39; &#39;59&#39; &#39;HID&#39; &#39;93&#39;]\n [&#39;HID&#39; &#39;95&#39; &#39;HID&#39; &#39;99&#39;]\n [&#39;HID&#39; &#39;50&#39; &#39;HID&#39; &#39;53&#39;]\n [&#39;HID&#39; &#39;54&#39; &#39;HID&#39; &#39;55&#39;]\n [&#39;HID&#39; &#39;56&#39; &#39;HID&#39; &#39;57&#39;]\n [&#39;HID&#39; &#39;59&#39; &#39;HID&#39; &#39;93&#39;]\n [&#39;HID&#39; &#39;95&#39; &#39;HID&#39; &#39;99&#39;]\n [&#39;HID&#39; &#39;50&#39; &#39;HID&#39; &#39;53&#39;]\n [&#39;HID&#39; &#39;54&#39; &#39;HID&#39; &#39;55&#39;]\n [&#39;HID&#39; &#39;56&#39; &#39;HID&#39; &#39;57&#39;]\n [&#39;HID&#39; &#39;59&#39; &#39;HID&#39; &#39;93&#39;]\n [&#39;HID&#39; &#39;95&#39; &#39;HID&#39; &#39;99&#39;]\n [&#39;HID&#39; &#39;50&#39; &#39;HID&#39; &#39;53&#39;]\n [&#39;HID&#39; &#39;54&#39; &#39;HID&#39; &#39;55&#39;]\n [&#39;HID&#39; &#39;56&#39; &#39;HID&#39; &#39;57&#39;]\n [&#39;HID&#39; &#39;59&#39; &#39;HID&#39; &#39;93&#39;]\n [&#39;HID&#39; &#39;95&#39; &#39;HID&#39; &#39;99&#39;]\n [&#39;HSP&#39; &#39;50&#39; &#39;HSP&#39; &#39;53&#39;]\n [&#39;HSP&#39; &#39;54&#39; &#39;HSP&#39; &#39;55&#39;]\n [&#39;HSP&#39; &#39;56&#39; &#39;HSP&#39; &#39;57&#39;]\n [&#39;HSP&#39; &#39;59&#39; &#39;HSP&#39; &#39;93&#39;]\n [&#39;HSP&#39; &#39;95&#39; &#39;HSP&#39; &#39;99&#39;]\n [&#39;HSP&#39; &#39;50&#39; &#39;HSP&#39; &#39;53&#39;]\n [&#39;HSP&#39; &#39;54&#39; &#39;HSP&#39; &#39;55&#39;]\n [&#39;HSP&#39; &#39;56&#39; &#39;HSP&#39; &#39;57&#39;]\n [&#39;HSP&#39; &#39;59&#39; &#39;HSP&#39; &#39;93&#39;]\n [&#39;HSP&#39; &#39;95&#39; &#39;HSP&#39; &#39;99&#39;]\n [&#39;HSP&#39; &#39;50&#39; &#39;HSP&#39; &#39;53&#39;]\n [&#39;HSP&#39; &#39;54&#39; &#39;HSP&#39; &#39;55&#39;]\n [&#39;HSP&#39; &#39;56&#39; &#39;HSP&#39; &#39;57&#39;]\n [&#39;HSP&#39; &#39;59&#39; &#39;HSP&#39; &#39;93&#39;]\n [&#39;HSP&#39; &#39;95&#39; &#39;HSP&#39; &#39;99&#39;]\n [&#39;HSP&#39; &#39;50&#39; &#39;HSP&#39; &#39;53&#39;]\n [&#39;HSP&#39; &#39;54&#39; &#39;HSP&#39; &#39;55&#39;]\n [&#39;HSP&#39; &#39;56&#39; &#39;HSP&#39; &#39;57&#39;]\n [&#39;HSP&#39; &#39;59&#39; &#39;HSP&#39; &#39;93&#39;]\n [&#39;HSP&#39; &#39;95&#39; &#39;HSP&#39; &#39;99&#39;]\n [&#39;HSP&#39; &#39;50&#39; &#39;HSP&#39; &#39;53&#39;]\n [&#39;HSP&#39; &#39;54&#39; &#39;HSP&#39; &#39;55&#39;]\n [&#39;HSP&#39; &#39;56&#39; &#39;HSP&#39; &#39;57&#39;]\n [&#39;HSP&#39; &#39;59&#39; &#39;HSP&#39; &#39;93&#39;]\n [&#39;HSP&#39; &#39;95&#39; &#39;HSP&#39; &#39;99&#39;]\n [&#39;HSP&#39; &#39;50&#39; &#39;HSP&#39; &#39;53&#39;]\n [&#39;HSP&#39; &#39;54&#39; &#39;HSP&#39; &#39;55&#39;]\n [&#39;HSP&#39; &#39;56&#39; &#39;HSP&#39; &#39;57&#39;]\n [&#39;HSP&#39; &#39;59&#39; &#39;HSP&#39; &#39;93&#39;]\n [&#39;HSP&#39; &#39;95&#39; &#39;HSP&#39; &#39;99&#39;]\n [&#39;HSP&#39; &#39;50&#39; &#39;HSP&#39; &#39;53&#39;]\n [&#39;HSP&#39; &#39;54&#39; &#39;HSP&#39; &#39;55&#39;]\n [&#39;HSP&#39; &#39;56&#39; &#39;HSP&#39; &#39;57&#39;]\n [&#39;HSP&#39; &#39;59&#39; &#39;HSP&#39; &#39;93&#39;]\n [&#39;HSP&#39; &#39;95&#39; &#39;HSP&#39; &#39;99&#39;]\n [&#39;HSP&#39; &#39;50&#39; &#39;HSP&#39; &#39;53&#39;]\n [&#39;HSP&#39; &#39;54&#39; &#39;HSP&#39; &#39;55&#39;]\n [&#39;HSP&#39; &#39;56&#39; &#39;HSP&#39; &#39;57&#39;]\n [&#39;HSP&#39; &#39;59&#39; &#39;HSP&#39; &#39;93&#39;]\n [&#39;HSP&#39; &#39;95&#39; &#39;HSP&#39; &#39;99&#39;]\n [&#39;HSP&#39; &#39;50&#39; &#39;HSP&#39; &#39;53&#39;]\n [&#39;HSP&#39; &#39;54&#39; &#39;HSP&#39; &#39;55&#39;]\n [&#39;HSP&#39; &#39;56&#39; &#39;HSP&#39; &#39;57&#39;]\n [&#39;HSP&#39; &#39;59&#39; &#39;HSP&#39; &#39;93&#39;]\n [&#39;HSP&#39; &#39;95&#39; &#39;HSP&#39; &#39;99&#39;]\n [&#39;HSP&#39; &#39;50&#39; &#39;HSP&#39; &#39;53&#39;]\n [&#39;HSP&#39; &#39;54&#39; &#39;HSP&#39; &#39;55&#39;]\n [&#39;HSP&#39; &#39;56&#39; &#39;HSP&#39; &#39;57&#39;]\n [&#39;HSP&#39; &#39;59&#39; &#39;HSP&#39; &#39;93&#39;]\n [&#39;HSP&#39; &#39;95&#39; &#39;HSP&#39; &#39;99&#39;]\n [&#39;TYR&#39; &#39;50&#39; &#39;TYR&#39; &#39;53&#39;]\n [&#39;TYR&#39; &#39;54&#39; &#39;TYR&#39; &#39;55&#39;]\n [&#39;TYR&#39; &#39;56&#39; &#39;TYR&#39; &#39;57&#39;]\n [&#39;TYR&#39; &#39;59&#39; &#39;TYR&#39; &#39;93&#39;]\n [&#39;TYR&#39; &#39;95&#39; &#39;TYR&#39; &#39;99&#39;]\n [&#39;TYR&#39; &#39;50&#39; &#39;TYR&#39; &#39;53&#39;]\n [&#39;TYR&#39; &#39;54&#39; &#39;TYR&#39; &#39;55&#39;]\n [&#39;TYR&#39; &#39;56&#39; &#39;TYR&#39; &#39;57&#39;]\n [&#39;TYR&#39; &#39;59&#39; &#39;TYR&#39; &#39;93&#39;]\n [&#39;TYR&#39; &#39;95&#39; &#39;TYR&#39; &#39;99&#39;]\n [&#39;TYR&#39; &#39;50&#39; &#39;TYR&#39; &#39;53&#39;]\n [&#39;TYR&#39; &#39;54&#39; &#39;TYR&#39; &#39;55&#39;]\n [&#39;TYR&#39; &#39;56&#39; &#39;TYR&#39; &#39;57&#39;]\n [&#39;TYR&#39; &#39;59&#39; &#39;TYR&#39; &#39;93&#39;]\n [&#39;TYR&#39; &#39;95&#39; &#39;TYR&#39; &#39;99&#39;]\n [&#39;TYR&#39; &#39;50&#39; &#39;TYR&#39; &#39;53&#39;]\n [&#39;TYR&#39; &#39;54&#39; &#39;TYR&#39; &#39;55&#39;]\n [&#39;TYR&#39; &#39;56&#39; &#39;TYR&#39; &#39;57&#39;]\n [&#39;TYR&#39; &#39;59&#39; &#39;TYR&#39; &#39;93&#39;]\n [&#39;TYR&#39; &#39;95&#39; &#39;TYR&#39; &#39;99&#39;]\n [&#39;TYR&#39; &#39;50&#39; &#39;TYR&#39; &#39;53&#39;]\n [&#39;TYR&#39; &#39;54&#39; &#39;TYR&#39; &#39;55&#39;]\n [&#39;TYR&#39; &#39;56&#39; &#39;TYR&#39; &#39;57&#39;]\n [&#39;TYR&#39; &#39;59&#39; &#39;TYR&#39; &#39;93&#39;]\n [&#39;TYR&#39; &#39;95&#39; &#39;TYR&#39; &#39;99&#39;]\n [&#39;TYR&#39; &#39;50&#39; &#39;TYR&#39; &#39;53&#39;]\n [&#39;TYR&#39; &#39;54&#39; &#39;TYR&#39; &#39;55&#39;]\n [&#39;TYR&#39; &#39;56&#39; &#39;TYR&#39; &#39;57&#39;]\n [&#39;TYR&#39; &#39;59&#39; &#39;TYR&#39; &#39;93&#39;]\n [&#39;TYR&#39; &#39;95&#39; &#39;TYR&#39; &#39;99&#39;]\n [&#39;TYR&#39; &#39;50&#39; &#39;TYR&#39; &#39;53&#39;]\n [&#39;TYR&#39; &#39;54&#39; &#39;TYR&#39; &#39;55&#39;]\n [&#39;TYR&#39; &#39;56&#39; &#39;TYR&#39; &#39;57&#39;]\n [&#39;TYR&#39; &#39;59&#39; &#39;TYR&#39; &#39;93&#39;]\n [&#39;TYR&#39; &#39;95&#39; &#39;TYR&#39; &#39;99&#39;]\n [&#39;TYR&#39; &#39;50&#39; &#39;TYR&#39; &#39;53&#39;]\n [&#39;TYR&#39; &#39;54&#39; &#39;TYR&#39; &#39;55&#39;]\n [&#39;TYR&#39; &#39;56&#39; &#39;TYR&#39; &#39;57&#39;]\n [&#39;TYR&#39; &#39;59&#39; &#39;TYR&#39; &#39;93&#39;]\n [&#39;TYR&#39; &#39;95&#39; &#39;TYR&#39; &#39;99&#39;]\n [&#39;TYR&#39; &#39;50&#39; &#39;TYR&#39; &#39;53&#39;]\n [&#39;TYR&#39; &#39;54&#39; &#39;TYR&#39; &#39;55&#39;]\n [&#39;TYR&#39; &#39;56&#39; &#39;TYR&#39; &#39;57&#39;]\n [&#39;TYR&#39; &#39;59&#39; &#39;TYR&#39; &#39;93&#39;]\n [&#39;TYR&#39; &#39;95&#39; &#39;TYR&#39; &#39;99&#39;]\n [&#39;TYR&#39; &#39;50&#39; &#39;TYR&#39; &#39;53&#39;]\n [&#39;TYR&#39; &#39;54&#39; &#39;TYR&#39; &#39;55&#39;]\n [&#39;TYR&#39; &#39;56&#39; &#39;TYR&#39; &#39;57&#39;]\n [&#39;TYR&#39; &#39;59&#39; &#39;TYR&#39; &#39;93&#39;]\n [&#39;TYR&#39; &#39;95&#39; &#39;TYR&#39; &#39;99&#39;]\n [&#39;GLY&#39; &#39;50&#39; &#39;GLY&#39; &#39;53&#39;]\n [&#39;GLY&#39; &#39;54&#39; &#39;GLY&#39; &#39;55&#39;]\n [&#39;GLY&#39; &#39;56&#39; &#39;GLY&#39; &#39;57&#39;]\n [&#39;GLY&#39; &#39;59&#39; &#39;GLY&#39; &#39;93&#39;]\n [&#39;GLY&#39; &#39;95&#39; &#39;GLY&#39; &#39;99&#39;]\n [&#39;GLY&#39; &#39;50&#39; &#39;GLY&#39; &#39;53&#39;]\n [&#39;GLY&#39; &#39;54&#39; &#39;GLY&#39; &#39;55&#39;]\n [&#39;GLY&#39; &#39;56&#39; &#39;GLY&#39; &#39;57&#39;]\n [&#39;GLY&#39; &#39;59&#39; &#39;GLY&#39; &#39;93&#39;]\n [&#39;GLY&#39; &#39;95&#39; &#39;GLY&#39; &#39;99&#39;]\n [&#39;GLY&#39; &#39;50&#39; &#39;GLY&#39; &#39;53&#39;]\n [&#39;GLY&#39; &#39;54&#39; &#39;GLY&#39; &#39;55&#39;]\n [&#39;GLY&#39; &#39;56&#39; &#39;GLY&#39; &#39;57&#39;]\n [&#39;GLY&#39; &#39;59&#39; &#39;GLY&#39; &#39;93&#39;]\n [&#39;GLY&#39; &#39;95&#39; &#39;GLY&#39; &#39;99&#39;]\n [&#39;GLY&#39; &#39;50&#39; &#39;GLY&#39; &#39;53&#39;]\n [&#39;GLY&#39; &#39;54&#39; &#39;GLY&#39; &#39;55&#39;]\n [&#39;GLY&#39; &#39;56&#39; &#39;GLY&#39; &#39;57&#39;]\n [&#39;GLY&#39; &#39;59&#39; &#39;GLY&#39; &#39;93&#39;]\n [&#39;GLY&#39; &#39;95&#39; &#39;GLY&#39; &#39;99&#39;]\n [&#39;GLY&#39; &#39;50&#39; &#39;GLY&#39; &#39;53&#39;]\n [&#39;GLY&#39; &#39;54&#39; &#39;GLY&#39; &#39;55&#39;]\n [&#39;GLY&#39; &#39;56&#39; &#39;GLY&#39; &#39;57&#39;]\n [&#39;GLY&#39; &#39;59&#39; &#39;GLY&#39; &#39;93&#39;]\n [&#39;GLY&#39; &#39;95&#39; &#39;GLY&#39; &#39;99&#39;]\n [&#39;GLY&#39; &#39;50&#39; &#39;GLY&#39; &#39;53&#39;]\n [&#39;GLY&#39; &#39;54&#39; &#39;GLY&#39; &#39;55&#39;]\n [&#39;GLY&#39; &#39;56&#39; &#39;GLY&#39; &#39;57&#39;]\n [&#39;GLY&#39; &#39;59&#39; &#39;GLY&#39; &#39;93&#39;]\n [&#39;GLY&#39; &#39;95&#39; &#39;GLY&#39; &#39;99&#39;]\n [&#39;GLY&#39; &#39;50&#39; &#39;GLY&#39; &#39;53&#39;]\n [&#39;GLY&#39; &#39;54&#39; &#39;GLY&#39; &#39;55&#39;]\n [&#39;GLY&#39; &#39;56&#39; &#39;GLY&#39; &#39;57&#39;]\n [&#39;GLY&#39; &#39;59&#39; &#39;GLY&#39; &#39;93&#39;]\n [&#39;GLY&#39; &#39;95&#39; &#39;GLY&#39; &#39;99&#39;]\n [&#39;GLY&#39; &#39;50&#39; &#39;GLY&#39; &#39;53&#39;]\n [&#39;GLY&#39; &#39;54&#39; &#39;GLY&#39; &#39;55&#39;]\n [&#39;GLY&#39; &#39;56&#39; &#39;GLY&#39; &#39;57&#39;]\n [&#39;GLY&#39; &#39;59&#39; &#39;GLY&#39; &#39;93&#39;]\n [&#39;GLY&#39; &#39;95&#39; &#39;GLY&#39; &#39;99&#39;]\n [&#39;GLY&#39; &#39;50&#39; &#39;GLY&#39; &#39;53&#39;]\n [&#39;GLY&#39; &#39;54&#39; &#39;GLY&#39; &#39;55&#39;]\n [&#39;GLY&#39; &#39;56&#39; &#39;GLY&#39; &#39;57&#39;]\n [&#39;GLY&#39; &#39;59&#39; &#39;GLY&#39; &#39;93&#39;]\n [&#39;GLY&#39; &#39;95&#39; &#39;GLY&#39; &#39;99&#39;]\n [&#39;GLY&#39; &#39;50&#39; &#39;GLY&#39; &#39;53&#39;]\n [&#39;GLY&#39; &#39;54&#39; &#39;GLY&#39; &#39;55&#39;]\n [&#39;GLY&#39; &#39;56&#39; &#39;GLY&#39; &#39;57&#39;]\n [&#39;GLY&#39; &#39;59&#39; &#39;GLY&#39; &#39;93&#39;]\n [&#39;GLY&#39; &#39;95&#39; &#39;GLY&#39; &#39;99&#39;]]\n&lt;mdtraj.Trajectory with 1 frames, 3471 atoms, 231 residues, and unitcells&gt;\n"
    },
    {
     "output_type": "error",
     "ename": "ValueError",
     "evalue": "invalid literal for int() with base 10: &#39;HID&#39;",
     "traceback": [
      "\u001b[0;31m---------------------------------------------------------------------------\u001b[0m",
      "\u001b[0;31mValueError\u001b[0m                                Traceback (most recent call last)",
      "\u001b[0;32m&lt;ipython-input-12-264664a33e5a&gt;\u001b[0m in \u001b[0;36m&lt;module&gt;\u001b[0;34m\u001b[0m\n\u001b[1;32m     16\u001b[0m         \u001b[0mridx\u001b[0m \u001b[0;34m=\u001b[0m \u001b[0mint\u001b[0m\u001b[0;34m(\u001b[0m\u001b[0mresidue\u001b[0m\u001b[0;34m.\u001b[0m\u001b[0mindex\u001b[0m\u001b[0;34m)\u001b[0m\u001b[0;34m\u001b[0m\u001b[0;34m\u001b[0m\u001b[0m\n\u001b[1;32m     17\u001b[0m         \u001b[0;32mif\u001b[0m \u001b[0mridx\u001b[0m \u001b[0;34m==\u001b[0m \u001b[0mint\u001b[0m\u001b[0;34m(\u001b[0m\u001b[0mwt1\u001b[0m\u001b[0;34m)\u001b[0m\u001b[0;34m:\u001b[0m \u001b[0mresidue\u001b[0m\u001b[0;34m.\u001b[0m\u001b[0mname\u001b[0m \u001b[0;34m=\u001b[0m \u001b[0mstr\u001b[0m\u001b[0;34m(\u001b[0m\u001b[0mmt1\u001b[0m\u001b[0;34m)\u001b[0m\u001b[0;34m\u001b[0m\u001b[0;34m\u001b[0m\u001b[0m\n\u001b[0;32m---&gt; 18\u001b[0;31m         \u001b[0;32mif\u001b[0m \u001b[0mridx\u001b[0m \u001b[0;34m==\u001b[0m \u001b[0mint\u001b[0m\u001b[0;34m(\u001b[0m\u001b[0mwt2\u001b[0m\u001b[0;34m)\u001b[0m\u001b[0;34m:\u001b[0m \u001b[0mresidue\u001b[0m\u001b[0;34m.\u001b[0m\u001b[0mname\u001b[0m \u001b[0;34m=\u001b[0m \u001b[0mstr\u001b[0m\u001b[0;34m(\u001b[0m\u001b[0mmt2\u001b[0m\u001b[0;34m)\u001b[0m\u001b[0;34m\u001b[0m\u001b[0;34m\u001b[0m\u001b[0m\n\u001b[0m\u001b[1;32m     19\u001b[0m \u001b[0;34m\u001b[0m\u001b[0m\n\u001b[1;32m     20\u001b[0m \u001b[0mholo00\u001b[0m\u001b[0;34m.\u001b[0m\u001b[0msave\u001b[0m\u001b[0;34m(\u001b[0m\u001b[0;34m&#39;SELEX.00.pdb&#39;\u001b[0m\u001b[0;34m)\u001b[0m\u001b[0;34m\u001b[0m\u001b[0;34m\u001b[0m\u001b[0m\n",
      "\u001b[0;31mValueError\u001b[0m: invalid literal for int() with base 10: &#39;HID&#39;"
     ]
    }
   ],
   "source": [
    "# Some active site and adjacent residues\n",
    "mutMAT = expmut(\n",
    "    wt = [50, 53, 54, 55, 56, 57, 59, 93, 95, 99],\n",
    "    mt = ['HID', 'HSP', 'TYR', 'GLY'])\n",
    "mutMAT = mutMAT.reshape(200, 4); print(mutMAT)\n",
    "\n",
    "holo00 = md.load('1mfa-HOLO.00.pdb'); print(holo00)\n",
    "\n",
    "# Create the paired mutations e.g. [('HIS', 93), ('ASN', 53), ...]\n",
    "for i in range(mutMAT.shape[0]):\n",
    "    mt1 = mutMAT[i,0]\n",
    "    wt1 = mutMAT[i,1]\n",
    "    wt2 = mutMAT[i,2]\n",
    "    mt2 = mutMAT[i,3]\n",
    "    for residue in holo00.top.chain(0).residues:\n",
    "        ridx = int(residue.index)\n",
    "        if ridx == int(wt1): residue.name = str(mt1)\n",
    "        if ridx == int(wt2): residue.name = str(mt2)\n",
    "\n",
    "holo00.save('SELEX.00.pdb')"
   ]
  },
  {
   "cell_type": "code",
   "execution_count": 13,
   "metadata": {},
   "outputs": [
    {
     "output_type": "error",
     "ename": "OSError",
     "evalue": "No such file: SELEX.00.pdb",
     "traceback": [
      "\u001b[0;31m---------------------------------------------------------------------------\u001b[0m",
      "\u001b[0;31mOSError\u001b[0m                                   Traceback (most recent call last)",
      "\u001b[0;32m&lt;ipython-input-13-dc8ecb382b50&gt;\u001b[0m in \u001b[0;36m&lt;module&gt;\u001b[0;34m\u001b[0m\n\u001b[0;32m----&gt; 1\u001b[0;31m \u001b[0mmut00\u001b[0m \u001b[0;34m=\u001b[0m \u001b[0mmd\u001b[0m\u001b[0;34m.\u001b[0m\u001b[0mload\u001b[0m\u001b[0;34m(\u001b[0m\u001b[0;34m&#39;SELEX.00.pdb&#39;\u001b[0m\u001b[0;34m)\u001b[0m\u001b[0;34m\u001b[0m\u001b[0;34m\u001b[0m\u001b[0m\n\u001b[0m\u001b[1;32m      2\u001b[0m \u001b[0;34m\u001b[0m\u001b[0m\n\u001b[1;32m      3\u001b[0m \u001b[0mmut00_df\u001b[0m\u001b[0;34m,\u001b[0m \u001b[0mmut00_bd\u001b[0m \u001b[0;34m=\u001b[0m \u001b[0mmut00\u001b[0m\u001b[0;34m.\u001b[0m\u001b[0mtop\u001b[0m\u001b[0;34m.\u001b[0m\u001b[0mto_dataframe\u001b[0m\u001b[0;34m(\u001b[0m\u001b[0;34m)\u001b[0m\u001b[0;34m\u001b[0m\u001b[0;34m\u001b[0m\u001b[0m\n\u001b[1;32m      4\u001b[0m \u001b[0mmut00_df_DOG\u001b[0m \u001b[0;34m=\u001b[0m \u001b[0mmut00_df\u001b[0m\u001b[0;34m.\u001b[0m\u001b[0mloc\u001b[0m\u001b[0;34m[\u001b[0m\u001b[0mmut00_df\u001b[0m\u001b[0;34m[\u001b[0m\u001b[0;34m&#39;resName&#39;\u001b[0m\u001b[0;34m]\u001b[0m \u001b[0;34m==\u001b[0m \u001b[0;34m&#39;DOG&#39;\u001b[0m\u001b[0;34m]\u001b[0m\u001b[0;34m\u001b[0m\u001b[0;34m\u001b[0m\u001b[0m\n\u001b[1;32m      5\u001b[0m \u001b[0mmut00_df_DXP\u001b[0m \u001b[0;34m=\u001b[0m \u001b[0mmut00_df\u001b[0m\u001b[0;34m.\u001b[0m\u001b[0mloc\u001b[0m\u001b[0;34m[\u001b[0m\u001b[0mmut00_df\u001b[0m\u001b[0;34m[\u001b[0m\u001b[0;34m&#39;chainID&#39;\u001b[0m\u001b[0;34m]\u001b[0m \u001b[0;34m==\u001b[0m \u001b[0;36m0\u001b[0m\u001b[0;34m]\u001b[0m\u001b[0;34m\u001b[0m\u001b[0;34m\u001b[0m\u001b[0m\n",
      "\u001b[0;32m~/opt/anaconda3/envs/qcmm/lib/python3.6/site-packages/mdtraj/core/trajectory.py\u001b[0m in \u001b[0;36mload\u001b[0;34m(filename_or_filenames, discard_overlapping_frames, **kwargs)\u001b[0m\n\u001b[1;32m    427\u001b[0m \u001b[0;34m\u001b[0m\u001b[0m\n\u001b[1;32m    428\u001b[0m     \u001b[0;32mif\u001b[0m \u001b[0mloader\u001b[0m\u001b[0;34m.\u001b[0m\u001b[0m__name__\u001b[0m \u001b[0;32mnot\u001b[0m \u001b[0;32min\u001b[0m \u001b[0;34m[\u001b[0m\u001b[0;34m&#39;load_dtr&#39;\u001b[0m\u001b[0;34m]\u001b[0m\u001b[0;34m:\u001b[0m\u001b[0;34m\u001b[0m\u001b[0;34m\u001b[0m\u001b[0m\n\u001b[0;32m--&gt; 429\u001b[0;31m         \u001b[0m_assert_files_exist\u001b[0m\u001b[0;34m(\u001b[0m\u001b[0mfilename_or_filenames\u001b[0m\u001b[0;34m)\u001b[0m\u001b[0;34m\u001b[0m\u001b[0;34m\u001b[0m\u001b[0m\n\u001b[0m\u001b[1;32m    430\u001b[0m     \u001b[0;32melse\u001b[0m\u001b[0;34m:\u001b[0m\u001b[0;34m\u001b[0m\u001b[0;34m\u001b[0m\u001b[0m\n\u001b[1;32m    431\u001b[0m         \u001b[0m_assert_files_or_dirs_exist\u001b[0m\u001b[0;34m(\u001b[0m\u001b[0mfilename_or_filenames\u001b[0m\u001b[0;34m)\u001b[0m\u001b[0;34m\u001b[0m\u001b[0;34m\u001b[0m\u001b[0m\n",
      "\u001b[0;32m~/opt/anaconda3/envs/qcmm/lib/python3.6/site-packages/mdtraj/core/trajectory.py\u001b[0m in \u001b[0;36m_assert_files_exist\u001b[0;34m(filenames)\u001b[0m\n\u001b[1;32m     98\u001b[0m     \u001b[0;32mfor\u001b[0m \u001b[0mfn\u001b[0m \u001b[0;32min\u001b[0m \u001b[0mfilenames\u001b[0m\u001b[0;34m:\u001b[0m\u001b[0;34m\u001b[0m\u001b[0;34m\u001b[0m\u001b[0m\n\u001b[1;32m     99\u001b[0m         \u001b[0;32mif\u001b[0m \u001b[0;32mnot\u001b[0m \u001b[0;34m(\u001b[0m\u001b[0mos\u001b[0m\u001b[0;34m.\u001b[0m\u001b[0mpath\u001b[0m\u001b[0;34m.\u001b[0m\u001b[0mexists\u001b[0m\u001b[0;34m(\u001b[0m\u001b[0mfn\u001b[0m\u001b[0;34m)\u001b[0m \u001b[0;32mand\u001b[0m \u001b[0mos\u001b[0m\u001b[0;34m.\u001b[0m\u001b[0mpath\u001b[0m\u001b[0;34m.\u001b[0m\u001b[0misfile\u001b[0m\u001b[0;34m(\u001b[0m\u001b[0mfn\u001b[0m\u001b[0;34m)\u001b[0m\u001b[0;34m)\u001b[0m\u001b[0;34m:\u001b[0m\u001b[0;34m\u001b[0m\u001b[0;34m\u001b[0m\u001b[0m\n\u001b[0;32m--&gt; 100\u001b[0;31m             \u001b[0;32mraise\u001b[0m \u001b[0mIOError\u001b[0m\u001b[0;34m(\u001b[0m\u001b[0;34m&#39;No such file: %s&#39;\u001b[0m \u001b[0;34m%\u001b[0m \u001b[0mfn\u001b[0m\u001b[0;34m)\u001b[0m\u001b[0;34m\u001b[0m\u001b[0;34m\u001b[0m\u001b[0m\n\u001b[0m\u001b[1;32m    101\u001b[0m \u001b[0;34m\u001b[0m\u001b[0m\n\u001b[1;32m    102\u001b[0m \u001b[0;34m\u001b[0m\u001b[0m\n",
      "\u001b[0;31mOSError\u001b[0m: No such file: SELEX.00.pdb"
     ]
    }
   ],
   "source": [
    "\n",
    "holo00 = md.load('1mfa-HOLO.00.pdb')\n",
    "mut00 = md.load('SELEX.00.pdb')\n",
    "\n",
    "mut00_df, mut00_bd = mut00.top.to_dataframe()\n",
    "mut00_df_DOG = mut00_df.loc[mut00_df['resName'] == 'DOG']\n",
    "mut00_df_DXP = mut00_df.loc[mut00_df['chainID'] == 0]\n",
    "\n",
    "idx_DOG = mut00_df_DOG.resSeq.unique()\n",
    "idx_DXP = mut00_df_DXP.resSeq.unique()\n",
    "\n",
    "idx_pairs = list(it.product(idx_DOG, idx_DXP))\n",
    "\n",
    "idx_neighs = md.compute_neighbors(mut00, 0.3, idx_DOG, idx_DXP, False)\n",
    "idx_neunq = list(idx_neighs[0])\n",
    "\n",
    "ddtraj = mut00.atom_slice(\n",
    "   mut00.top.select(\n",
    "        'residue ' + str(' || residue ').join([str(i) for i in idx_neunq])))\n",
    "ddtraj = mut00.atom_slice(\n",
    "    mut00.top.select('chainid 1'))\n",
    "\n",
    "# gloabl_complex_rmsd = md.rmsd(holo00, mut00)\n",
    "# gloabl_complex_rmsd = md.rmsd(holo01, mut01)\n",
    "\n",
    "global_pocket_rmsd = md.rmsd(ddtraj, ddtraj)\n",
    "\n",
    "plt.figure()\n",
    "plt.legend\n",
    "plt.title('RMSD')\n",
    "plt.xlabel('Frame (x.x ns/frame)')\n",
    "plt.ylabel('RMSD (nm)')\n",
    "plt.plot(global_pocket_rmsd)\n",
    "plt.savefig('1.png', dpi=300)"
   ]
  },
  {
   "cell_type": "code",
   "execution_count": null,
   "metadata": {},
   "outputs": [],
   "source": [
    "ddpocket = md.compute_distances(\n",
    "    traj=mut_traj, \n",
    "    atom_pairs=list(\n",
    "        it.product(\n",
    "            mut_df_DOG.serial, \n",
    "            mut_df_DXP.serial)))\n",
    "            \n",
    "pocket_rmsd = [np.mean(dd) for dd in ddpocket]\n",
    "\n",
    "plt.figure()\n",
    "plt.title('RMSD')\n",
    "plt.xlabel('Frame (x.x ns/frame)')\n",
    "plt.ylabel('RMSD (nm)')\n",
    "plt.plot(pocket_rmsd)\n",
    "plt.savefig('1.png', dpi=300)"
   ]
  },
  {
   "cell_type": "code",
   "execution_count": null,
   "metadata": {},
   "outputs": [],
   "source": []
  }
 ]
}