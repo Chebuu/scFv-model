{
 "metadata": {
  "language_info": {
   "codemirror_mode": {
    "name": "ipython",
    "version": 3
   },
   "file_extension": ".py",
   "mimetype": "text/x-python",
   "name": "python",
   "nbconvert_exporter": "python",
   "pygments_lexer": "ipython3",
   "version": "3.6.11-final"
  },
  "orig_nbformat": 2,
  "kernelspec": {
   "name": "Python 3.6.11 64-bit ('qcmm': conda)",
   "display_name": "Python 3.6.11 64-bit ('qcmm': conda)",
   "metadata": {
    "interpreter": {
     "hash": "e48c9bfdccfbfe7b296ff3c837069cd72899fd94f29d974904d2d6b5927ea76d"
    }
   }
  }
 },
 "nbformat": 4,
 "nbformat_minor": 2,
 "cells": [
  {
   "cell_type": "code",
   "execution_count": null,
   "metadata": {},
   "outputs": [],
   "source": [
    "%%capture\n",
    "\n",
    "import numpy as np\n",
    "import pandas as pd\n",
    "import sklearn as sk\n",
    "import itertools as it\n",
    "\n",
    "import matplotlib.pyplot as plt\n",
    "\n",
    "import parmed as pmd\n",
    "import mdtraj as md\n",
    "\n",
    "from rdkit import Chem\n",
    "from rdkit.Chem import AllChem, rdFMCS, PandasTools\n",
    "from rdkit.Chem.EnumerateStereoisomers import EnumerateStereoisomers, StereoEnumerationOptions\n",
    "\n",
    "from Bio.PDB import PDBList\n",
    "\n",
    "from pdbfixer import *\n",
    "\n",
    "from simtk.openmm.app import *\n",
    "from simtk.openmm import *\n",
    "from simtk.unit import *\n",
    "\n",
    "from openforcefield.topology import Molecule, Topology\n",
    "from openmmforcefields.generators import GAFFTemplateGenerator\n",
    "from openforcefield.typing.engines.smirnoff import ForceField"
   ]
  },
  {
   "cell_type": "code",
   "execution_count": null,
   "metadata": {},
   "outputs": [],
   "source": [
    "PLATFORM = 'CPU'\n",
    "CUDA_DEV_IDX = None\n",
    "\n",
    "PDB_DIR = 'structures/pdb/'\n",
    "PDB_SLUG = PDB_DIR + 'pdb'\n",
    "\n",
    "SCFV_IDS = ['1mfa']\n",
    "\n",
    "LIGAND_OFFSET = (0.0, 0.0, 0.0)\n",
    "\n",
    "STEP_SIZE = 1000\n",
    "TOTAL_STEPS = 10000\n",
    "SIM_DURATION = TOTAL_STEPS*STEP_SIZE\n",
    "\n",
    "N_TOTAL_RENDERS = 10\n",
    "RENDER_INTERVAL = SIM_DURATION / N_TOTAL_RENDERS\n",
    "\n",
    "ENERGY_TOLERANCE = 2\n",
    "MAX_ENERGY_ITERS = 5000\n",
    "\n",
    "LANGE_TOLERANCE = 10**-5\n",
    "LANGE_TEMPERATURE = 302.0*kelvin\n",
    "LANGE_FRICTION = 1.0/picoseconds\n",
    "LANGE_STEPSIZE = 2.0*femtoseconds\n",
    "\n",
    "REPORT_SLUG = '1MFA-2978'\n",
    "PDB_FRAME_DIR = REPORT_SLUG + '.frames'\n",
    "PDB_REPORT_FILE = REPORT_SLUG + '.pdb'\n",
    "DCD_REPORT_FILE = REPORT_SLUG + '.dcd'\n",
    "STATE_REPORT_FILE = REPORT_SLUG + '.state.txt'\n",
    "\n",
    "RESTART_FILE = REPORT_SLUG + '.rst7'\n",
    "STATE_RESTART_FILE = REPORT_SLUG + '.xml'\n",
    "CHECKPOINT_RESTART_FILE = REPORT_SLUG + '.chk'\n",
    "\n",
    "if not PLATFORM:\n",
    "    PLATFORM = openmm.Platform.getPlatformByName(PLATFORM) \n",
    "else:\n",
    "    PLATFORM = 'CPU'\n",
    "\n",
    "if PLATFORM == 'CUDA':\n",
    "    platprop = {\n",
    "        'CudaPrecision': 'mixed', \n",
    "        'CudaDeviceIndex': (CUDA_DEV_IDX if CUDA_DEV_IDX else 0)} \n",
    "\n",
    "REPORTERS = [\n",
    "    PDBReporter(PDB_REPORT_FILE, N_TOTAL_RENDERS),\n",
    "    StateDataReporter(\n",
    "        file=STATE_REPORT_FILE, \n",
    "        reportInterval=RENDER_INTERVAL, \n",
    "        progress=True, temperature=True, \n",
    "        potentialEnergy=True, density=True,\n",
    "        totalSteps=TOTAL_STEPS, speed=True)]"
   ]
  },
  {
   "cell_type": "code",
   "execution_count": null,
   "metadata": {},
   "outputs": [],
   "source": [
    "AA19_CATS = [\n",
    "    'Aliphatic': ['glycine', 'isoleucine', 'leucine', 'proline'], \n",
    "    'Aromatic': ['tryptophan', 'tyrosine'],\n",
    "    'Basic': ['histidine','lysine'],\n",
    "    'Acidic': ['glutamic'],\n",
    "    'Hydroxylic': ['threonine'],\n",
    "    'Sulphur': ['methionine'],\n",
    "    'Amidic ': ['glutamine']\n",
    "]\n",
    "\n",
    "AA19_CODES = pd.DataFrame([\n",
    "    ('Phenylalanine','Phe','F'),\n",
    "    ('Leucine','Leu','L'),\n",
    "    ('Serine','Ser','S'),\n",
    "    ('Tyrosine','Tyr','Y'),\n",
    "    ('Cysteine','Cys','C'),\n",
    "    ('Leucine','Leu','L'),\n",
    "    ('Proline','Pro','P'),\n",
    "    ('Histidine','His','H'),\n",
    "    ('Glutamine','Gln','Q'),\n",
    "    ('Isoleucine','Ile','I'),\n",
    "    ('Methionine','Met','M'),\n",
    "    ('Threonine','Thr','T'),\n",
    "    ('Asparagine','Asn','N'),\n",
    "    ('Lysine','Lys','K'),\n",
    "    ('Serine','Ser','S'),\n",
    "    ('Arginine','Arg','R'),\n",
    "    ('Valine','Val','V'),\n",
    "    ('Aspartate','Asp','D'),\n",
    "    ('Glutamate','Glu','E'),\n",
    "    ('Glycine','Gly','G')\n",
    "], columns=['Full', 'Residue', 'Letter'])\n",
    "\n",
    "mutMAT= pd.DataFrame(\n",
    "    data = {\n",
    "        'MutRes_Idx': [50, 59, 93, 95],\n",
    "        'MutRes_Name': ['PHE', 'GLY', 'LEU', 'ASN']})"
   ]
  },
  {
   "cell_type": "code",
   "execution_count": null,
   "metadata": {
    "tags": []
   },
   "outputs": [],
   "source": [
    "pdbl = PDBList()\n",
    "pdbl.download_pdb_files(SCFV_IDS, pdir=PDB_DIR, file_format='pdb')\n",
    "\n",
    "id_1MFA = SCFV_IDS[0]\n",
    "\n",
    "ent_1MFA = os.path.abspath(PDB_SLUG + id_1MFA + '.ent')\n",
    "\n",
    "tj_1MFA = md.load_pdb(ent_1MFA)\n",
    "tj_1MFA.center_coordinates()\n",
    "\n",
    "tj_1MFA_apo = tj_1MFA.atom_slice(\n",
    "    tj_1MFA.top.select('protein'))\n",
    "tj_1MFA_apo.save_pdb(PDB_DIR + id_1MFA + '_apo.pdb')\n",
    "\n",
    "tj_1MFA_lig = tj_1MFA.atom_slice(\n",
    "    tj_1MFA.top.select('not protein and not water'))\n",
    "# min_atom_pair_distance = ((tj_1MFA_lig.xyz[0] ** 2.).sum(1) ** 0.5).max() + ((tj_1MFA_apo.xyz[0] ** 2.).sum(1) ** 0.5).max() + 0.3\n",
    "# tj_1MFA_lig.xyz += np.array(LIGAND_OFFSET) * min_atom_pair_distance\n",
    "tj_1MFA_lig.save_pdb(PDB_DIR + id_1MFA + '_lig.pdb')"
   ]
  },
  {
   "cell_type": "code",
   "execution_count": null,
   "metadata": {
    "tags": []
   },
   "outputs": [],
   "source": [
    "ligSDF = PandasTools.LoadSDF(\n",
    "    'structures/sdf/Structure2D_CID_2978.sdf', smilesName='SMILES', molColName='Mol')\n",
    "\n",
    "molPROBE = Chem.AddHs(ligSDF.Mol[0])\n",
    "AllChem.EmbedMolecule(molPROBE)\n",
    "AllChem.UFFOptimizeMolecule(molPROBE)\n",
    "Chem.MolToMolFile(molPROBE, 'structures/mdl/' + 'PROBE' + '_lig.mol2')\n",
    "\n",
    "molREFRC = AllChem.MolFromPDBFile(PDB_DIR + id_1MFA + '_lig.pdb')\n",
    "mols = [molREFRC, molPROBE]\n",
    "mcs = rdFMCS.FindMCS([molREFRC, molPROBE], threshold=0.8,completeRingsOnly=True,ringMatchesRingOnly=True)\n",
    "patt = Chem.MolFromSmarts(mcs.smartsString)\n",
    "refMatch = molREFRC.GetSubstructMatch(patt)\n",
    "mv = molPROBE.GetSubstructMatch(patt)\n",
    "rms = AllChem.GetAlignmentTransform(molPROBE, molREFRC, atomMap=list(zip(mv, refMatch)))\n",
    "Chem.rdMolTransforms.TransformConformer(molPROBE.GetConformer(0), np.array(rms[1]))\n",
    "\n",
    "Chem.rdmolfiles.MolToMolFile(molPROBE, 'structures/mdl/' + 'PROBE' + '_lig.mol2')\n",
    "Chem.rdmolfiles.MolToPDBFile(molPROBE, 'structures/pdb/' + 'PROBE' + '_lig.pdb')\n",
    "\n",
    "m = Chem.AddHs(molPROBE)\n",
    "AllChem.EmbedMolecule(m)\n",
    "AllChem.UFFOptimizeMolecule(m)\n",
    "\n",
    "Chem.MolToMolFile(m, 'structures/mdl/' + 'PROBE' + '_lig.mol2')"
   ]
  },
  {
   "cell_type": "code",
   "execution_count": 32,
   "metadata": {},
   "outputs": [
    {
     "output_type": "execute_result",
     "data": {
      "text/plain": "<rdkit.Chem.rdchem.Mol at 0x13f6586c0>",
      "image/png": "[encoded data removed]"
     },
     "metadata": {},
     "execution_count": 32
    }
   ],
   "source": [
    "molREFRC"
   ]
  },
  {
   "cell_type": "code",
   "execution_count": 33,
   "metadata": {},
   "outputs": [
    {
     "output_type": "execute_result",
     "data": {
      "text/plain": "<rdkit.Chem.rdchem.Mol at 0x13f658710>",
      "image/png": "[encoded data removed]"
     },
     "metadata": {},
     "execution_count": 33
    }
   ],
   "source": [
    "molPROBE"
   ]
  },
  {
   "cell_type": "code",
   "execution_count": null,
   "metadata": {},
   "outputs": [],
   "source": [
    "fixer = PDBFixer(PDB_DIR + id_1MFA + '_apo.pdb')\n",
    "fixer.findMissingResidues()\n",
    "fixer.findNonstandardResidues()\n",
    "fixer.replaceNonstandardResidues()\n",
    "fixer.removeHeterogens(True)\n",
    "fixer.findMissingAtoms()\n",
    "fixer.addMissingAtoms()\n",
    "fixer.addMissingHydrogens(7.0)\n",
    "with open(PDB_DIR + id_1MFA + 'apo_fxd.pdb', 'w') as outfile:\n",
    "    PDBFile.writeFile(fixer.topology, fixer.positions, outfile)"
   ]
  },
  {
   "cell_type": "code",
   "execution_count": null,
   "metadata": {},
   "outputs": [],
   "source": [
    "molSMI = Chem.MolToSmiles(molPROBE, isomericSmiles=True)\n",
    "molLIG = PDBFile('structures/pdb/PROBE_lig.pdb')\n",
    "molAPO = PDBFile(PDB_DIR + id_1MFA + 'apo_fxd.pdb')\n",
    "\n",
    "model = Modeller(molAPO.topology, molAPO.getPositions())\n",
    "model.add(molLIG.topology, molLIG.getPositions())"
   ]
  },
  {
   "cell_type": "code",
   "execution_count": null,
   "metadata": {
    "tags": []
   },
   "outputs": [],
   "source": [
    "# generator.gaff_version is gaff2\n",
    "GAFFForceField = GAFFTemplateGenerator.INSTALLED_FORCEFIELDS[-1]\n",
    "GAFFTemplate = GAFFTemplateGenerator(forcefield=GAFFForceField)\n",
    "GAFFTemplate.add_molecules(\n",
    "    Molecule.from_smiles(molSMI, allow_undefined_stereo=True))\n",
    "    \n",
    "forcefield = app.ForceField('amber14/protein.ff14SB.xml')\n",
    "forcefield.registerTemplateGenerator(GAFFTemplate.generator)\n",
    "# forcefield.registerTemplatePatch(residue, patch, ...)\n",
    "system = forcefield.createSystem(model.topology)"
   ]
  },
  {
   "cell_type": "code",
   "execution_count": 31,
   "metadata": {},
   "outputs": [
    {
     "output_type": "display_data",
     "data": {
      "text/plain": "NGLWidget()",
      "application/vnd.jupyter.widget-view+json": {
       "version_major": 2,
       "version_minor": 0,
       "model_id": "60f37e20c5b644f3af4edab541300ae0"
      }
     },
     "metadata": {}
    }
   ],
   "source": [
    "with open('1mfa-HOLO.00.pdb', 'w+') as outfile:\n",
    "    PDBFile.writeFile(\n",
    "        model.topology, \n",
    "        model.getPositions(), \n",
    "        outfile)\n",
    "pmd.load_file('1mfa-HOLO.00.pdb').visualize()"
   ]
  },
  {
   "cell_type": "code",
   "execution_count": null,
   "metadata": {},
   "outputs": [],
   "source": [
    "traj_pro = md.load('1mfa-HOLO.00.pdb')\n",
    "\n",
    "for residue in traj_pro.top.chain(0).residues:\n",
    "    ridx = int(residue.index)\n",
    "    MutRes_Name = mutMAT_Q9HYR3['MutRes_Name']\n",
    "    MutRes_Idx = mutMAT_Q9HYR3['MutRes_Idx']\n",
    "    if MutRes_Idx.apply(lambda x: x == ridx).any():\n",
    "        residue.name = str(MutRes_Name.loc[MutRes_Idx == ridx].values[0])\n",
    "\n",
    "traj_pro.save('SELEX-00.mut_Q9HYR1.pdb')\n",
    "traj_pro = md.load('SELEX-00.pro.pdb') "
   ]
  },
  {
   "cell_type": "code",
   "execution_count": null,
   "metadata": {},
   "outputs": [],
   "source": [
    "mut_traj = md.load('SELEX-00.pdb')\n",
    "\n",
    "mut_df, mut_bd = mut_traj.top.to_dataframe()\n",
    "mut_df_DOG = mut_df.loc[mut_df['resName'] == 'DOG']\n",
    "mut_df_DXP = mut_df.loc[mut_df['chainID'] == 0]\n",
    "\n",
    "idx_DOG = mut_df_DOG.resSeq.unique()\n",
    "idx_DXP = mut_df_DXP.resSeq.unique()\n",
    "\n",
    "idx_pairs = list(it.product(idx_DOG, idx_DXP))\n",
    "\n",
    "idx_neighs = md.compute_neighbors(mut_traj, 0.3, idx_DOG, idx_DXP, False)\n",
    "idx_neunq = list(idx_neighs[0])\n",
    "\n",
    "ddtraj = mut_traj.atom_slice(\n",
    "    mut_traj.top.select(\n",
    "        'residue ' + str(' || residue ').join([str(i) for i in idx_neunq])))\n",
    "ddtraj = mut_traj.atom_slice(\n",
    "    mut_traj.top.select('chainid 1'))\n",
    "\n",
    "global_pocket_rmsd = md.rmsd(ddtraj, ddtraj)\n",
    "\n",
    "plt.figure()\n",
    "plt.legend\n",
    "plt.title('RMSD')\n",
    "plt.xlabel('Frame (x.x ns/frame)')\n",
    "plt.ylabel('RMSD (nm)')\n",
    "plt.plot(global_pocket_rmsd)\n",
    "plt.savefig('1.png', dpi=300)"
   ]
  },
  {
   "cell_type": "code",
   "execution_count": null,
   "metadata": {},
   "outputs": [],
   "source": [
    "ddpocket = md.compute_distances(\n",
    "    traj=mut_traj, \n",
    "    atom_pairs=list(\n",
    "        it.product(\n",
    "            mut_df_DOG.serial, \n",
    "            mut_df_DXP.serial)))\n",
    "            \n",
    "pocket_rmsd = [np.mean(dd) for dd in ddpocket]\n",
    "\n",
    "plt.figure()\n",
    "plt.title('RMSD')\n",
    "plt.xlabel('Frame (x.x ns/frame)')\n",
    "plt.ylabel('RMSD (nm)')\n",
    "plt.plot(pocket_rmsd)\n",
    "plt.savefig('1.png', dpi=300)"
   ]
  },
  {
   "cell_type": "code",
   "execution_count": null,
   "metadata": {},
   "outputs": [],
   "source": []
  }
 ]
}