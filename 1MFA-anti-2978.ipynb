{
 "metadata": {
  "language_info": {
   "codemirror_mode": {
    "name": "ipython",
    "version": 3
   },
   "file_extension": ".py",
   "mimetype": "text/x-python",
   "name": "python",
   "nbconvert_exporter": "python",
   "pygments_lexer": "ipython3",
   "version": "3.6.11-final"
  },
  "orig_nbformat": 2,
  "kernelspec": {
   "name": "Python 3.6.11 64-bit ('qcmm': conda)",
   "display_name": "Python 3.6.11 64-bit ('qcmm': conda)",
   "metadata": {
    "interpreter": {
     "hash": "e48c9bfdccfbfe7b296ff3c837069cd72899fd94f29d974904d2d6b5927ea76d"
    }
   }
  }
 },
 "nbformat": 4,
 "nbformat_minor": 2,
 "cells": [
  {
   "cell_type": "code",
   "execution_count": null,
   "metadata": {},
   "outputs": [],
   "source": [
    "%%capture\n",
    "\n",
    "# import os\n",
    "# import sys\n",
    "\n",
    "import numpy as np\n",
    "import pandas as pd\n",
    "import sklearn as sk\n",
    "import itertools as it\n",
    "\n",
    "import matplotlib.pyplot as plt\n",
    "\n",
    "import parmed as pmd\n",
    "import mdtraj as md\n",
    "\n",
    "from rdkit import Chem\n",
    "from rdkit.Chem import AllChem, rdFMCS, PandasTools\n",
    "\n",
    "from Bio.PDB import PDBList\n",
    "\n",
    "from pdbfixer import *\n",
    "\n",
    "from simtk.openmm.app import *\n",
    "from simtk.openmm import *\n",
    "from simtk.unit import *"
   ]
  },
  {
   "cell_type": "code",
   "execution_count": null,
   "metadata": {},
   "outputs": [],
   "source": [
    "PLATFORM = 'CPU'\n",
    "CUDA_DEV_IDX = None\n",
    "\n",
    "PDB_DIR = 'structures/pdb/'\n",
    "PDB_SLUG = PDB_DIR + 'pdb'\n",
    "\n",
    "SCFV_IDS = ['1mfa']\n",
    "\n",
    "LIGAND_OFFSET = (0.0, 0.0, 0.0)\n",
    "\n",
    "STEP_SIZE = 1000\n",
    "TOTAL_STEPS = 10000\n",
    "SIM_DURATION = TOTAL_STEPS*STEP_SIZE\n",
    "\n",
    "N_TOTAL_RENDERS = 10\n",
    "RENDER_INTERVAL = SIM_DURATION / N_TOTAL_RENDERS\n",
    "\n",
    "ENERGY_TOLERANCE = 2\n",
    "MAX_ENERGY_ITERS = 5000\n",
    "\n",
    "LANGE_TOLERANCE = 10**-5\n",
    "LANGE_TEMPERATURE = 302.0*kelvin\n",
    "LANGE_FRICTION = 1.0/picoseconds\n",
    "LANGE_STEPSIZE = 2.0*femtoseconds\n",
    "\n",
    "REPORT_SLUG = '1MFA-2978'\n",
    "PDB_FRAME_DIR = REPORT_SLUG + '.frames'\n",
    "PDB_REPORT_FILE = REPORT_SLUG + '.pdb'\n",
    "DCD_REPORT_FILE = REPORT_SLUG + '.dcd'\n",
    "STATE_REPORT_FILE = REPORT_SLUG + '.state.txt'\n",
    "\n",
    "RESTART_FILE = REPORT_SLUG + '.rst7'\n",
    "STATE_RESTART_FILE = REPORT_SLUG + '.xml'\n",
    "CHECKPOINT_RESTART_FILE = REPORT_SLUG + '.chk'\n",
    "\n",
    "if not PLATFORM:\n",
    "    PLATFORM = openmm.Platform.getPlatformByName(PLATFORM) \n",
    "else:\n",
    "    PLATFORM = 'CPU'\n",
    "\n",
    "if PLATFORM == 'CUDA':\n",
    "    platprop = {\n",
    "        'CudaPrecision': 'mixed', \n",
    "        'CudaDeviceIndex': (CUDA_DEV_IDX if CUDA_DEV_IDX else 0)} \n",
    "\n",
    "REPORTERS = [\n",
    "    PDBReporter(PDB_REPORT_FILE, N_TOTAL_RENDERS),\n",
    "    StateDataReporter(\n",
    "        file=STATE_REPORT_FILE, \n",
    "        reportInterval=RENDER_INTERVAL, \n",
    "        progress=True, temperature=True, \n",
    "        potentialEnergy=True, density=True,\n",
    "        totalSteps=TOTAL_STEPS, speed=True)]"
   ]
  },
  {
   "cell_type": "code",
   "execution_count": null,
   "metadata": {},
   "outputs": [],
   "source": [
    "mutMAT= pd.DataFrame(\n",
    "    data = {\n",
    "        'MutRes_Idx': [50, 59, 93, 95],\n",
    "        'MutRes_Name': ['PHE', 'GLY', 'LEU', 'ASN']})"
   ]
  },
  {
   "cell_type": "code",
   "execution_count": null,
   "metadata": {
    "tags": []
   },
   "outputs": [],
   "source": [
    "pdbl = PDBList()\n",
    "pdbl.download_pdb_files(SCFV_IDS, pdir=PDB_DIR, file_format='pdb')\n",
    "\n",
    "id_1MFA = SCFV_IDS[0]\n",
    "\n",
    "ent_1MFA = os.path.abspath(PDB_SLUG + id_1MFA + '.ent')\n",
    "\n",
    "tj_1MFA = md.load_pdb(ent_1MFA)\n",
    "\n",
    "tj_1MFA_apo = tj_1MFA.atom_slice(\n",
    "    tj_1MFA.top.select('protein'))\n",
    "tj_1MFA_apo.save_pdb(PDB_DIR + id_1MFA + '_apo.pdb')\n",
    "\n",
    "tj_1MFA_lig = tj_1MFA.atom_slice(\n",
    "    tj_1MFA.top.select('not protein and not water'))\n",
    "tj_1MFA_lig.save_pdb(PDB_DIR + id_1MFA + '_lig.pdb')"
   ]
  },
  {
   "cell_type": "code",
   "execution_count": null,
   "metadata": {},
   "outputs": [],
   "source": [
    "# https://github.com/lightdock/lightdock\n",
    "# https://github.com/haddocking/HADDOCK-binding-sites-tutorial"
   ]
  },
  {
   "cell_type": "code",
   "execution_count": 13,
   "metadata": {
    "tags": []
   },
   "outputs": [
    {
     "output_type": "execute_result",
     "data": {
      "text/plain": "<rdkit.Chem.rdchem.Mol at 0x14204da30>",
      "image/png": "[encoded data removed]"
     },
     "metadata": {},
     "execution_count": 13
    }
   ],
   "source": [
    "ligSDF = PandasTools.LoadSDF(\n",
    "    'structures/sdf/Structure2D_CID_2978.sdf', smilesName='SMILES', molColName='Mol')\n",
    "\n",
    "molPROBE = Chem.AddHs(ligSDF.Mol[0])\n",
    "AllChem.EmbedMolecule(molPROBE)\n",
    "AllChem.UFFOptimizeMolecule(molPROBE)\n",
    "Chem.MolToMolFile(molPROBE, 'structures/mdl/' + 'PROBE' + '_lig.mol2')\n",
    "\n",
    "# tj_REFRC = tj_1MFA_lig\n",
    "# tj_PROBE = md.load('structures/mdl/' + 'PROBE' + '_lig.mol2')\n",
    "\n",
    "# probeCOM = md.compute_center_of_mass(tj_PROBE)\n",
    "# refrcCOM = md.compute_center_of_mass(tj_1MFA_lig)\n",
    "\n",
    "molREFRC = AllChem.MolFromPDBFile(PDB_DIR + id_1MFA + '_lig.pdb')\n",
    "mols = [molREFRC, molPROBE]\n",
    "mcs = rdFMCS.FindMCS(mols, threshold=0.8,completeRingsOnly=True,ringMatchesRingOnly=True)\n",
    "patt = Chem.MolFromSmarts(mcs.smartsString)\n",
    "refMol = mols[0]\n",
    "probeMol = mols[1]\n",
    "refMatch = refMol.GetSubstructMatch(patt)\n",
    "mv = probeMol.GetSubstructMatch(patt)\n",
    "rms = AllChem.GetAlignmentTransform(probeMol,refMol, atomMap=list(zip(mv,refMatch)))\n",
    "Chem.rdMolTransforms.TransformConformer(probeMol.GetConformer(0), np.array(rms[1]))\n",
    "\n",
    "Chem.rdmolfiles.MolToMolFile(probeMol, 'structures/mdl/' + 'PROBE' + '_lig.mol2')\n",
    "Chem.rdmolfiles.MolToPDBFile(probeMol, 'structures/mdl/' + 'PROBE' + '_lig.pdb')\n",
    "probeMol\n",
    "\n",
    "# from rdkit.Chem.Draw import IPythonConsole\n",
    "# from rdkit.Chem import Draw\n",
    "# from rdkit import rdBase\n",
    "# from IPython import display\n",
    "# import copy\n",
    "# import py3Dmol\n",
    "\n",
    "# pview = py3Dmol.view(width=400, height=400)\n",
    "\n",
    "# # https://iwatobipen.wordpress.com/2019/02/27/rotate-molecule-and-visualize-it-rdkit-chemoinformatics/\n",
    "# # http://rdkit.blogspot.com/2016/07/using-ipywidgets-and-py3dmol-to-browse.html\n",
    "# def drawit2(m, p, confId=-1):\n",
    "#     mb = Chem.MolToMolBlock(m,confId=confId)\n",
    "#     p.addModel(mb,'sdf')\n",
    "#     p.setStyle({'stick':{}})\n",
    "#     p.setBackgroundColor('0xeeeeee')\n",
    "#     p.zoomTo()    \n",
    "# pview.show()"
   ]
  },
  {
   "cell_type": "code",
   "execution_count": null,
   "metadata": {},
   "outputs": [],
   "source": [
    "# # cdtMOL = md.load('mol/di-o-methyl-beta-cyclodextrin-CID10171019.mol2')\n",
    "# cdtMOL = md.load('mol/cdt.mol2')\n",
    "# cdtMOL_top = cdtMOL.top.to_openmm()\n",
    "# cdtMOL_xyz = cdtMOL.openmm_positions(0)\n",
    "\n",
    "# # ligMOL = md.load('mol/ligand-CID644019.mol2')\n",
    "# ligMOL = md.load('mol/cbd.mol2')\n",
    "# ligMOL_top = ligMOL.top.to_openmm()\n",
    "# ligMOL_xyz = ligMOL.openmm_positions(0)\n",
    "\n",
    "# ligMOL.xyz += np.array(LIGAND_OFFSET)\n",
    "# # min_ap_dist = ((ligMOL.xyz[0] ** 2.).sum(1) ** 0.5).max() + ((ligMOL.xyz[0] ** 2.).sum(1) ** 0.5).max() + 0.3\n",
    "# # ligMOL.xyz += np.array([1.0, 0.0, 0.0]) * min_ap_dist\n",
    "\n",
    "# model = Modeller(cdtMOL_top, cdtMOL_xyz)\n",
    "# model.add(ligMOL_top, ligMOL_xyz)"
   ]
  },
  {
   "cell_type": "code",
   "execution_count": 11,
   "metadata": {},
   "outputs": [],
   "source": [
    "fixer = PDBFixer(PDB_DIR + id_1MFA + '_apo.pdb')\n",
    "fixer.findMissingResidues()\n",
    "fixer.findNonstandardResidues()\n",
    "fixer.replaceNonstandardResidues()\n",
    "fixer.removeHeterogens(True)\n",
    "fixer.findMissingAtoms()\n",
    "fixer.addMissingAtoms()\n",
    "fixer.addMissingHydrogens(7.0)\n",
    "with open(PDB_DIR + id_1MFA + 'apo_fxd.pdb', 'w') as outfile:\n",
    "    PDBFile.writeFile(fixer.topology, fixer.positions, outfile)"
   ]
  },
  {
   "cell_type": "code",
   "execution_count": null,
   "metadata": {},
   "outputs": [],
   "source": []
  }
 ]
}